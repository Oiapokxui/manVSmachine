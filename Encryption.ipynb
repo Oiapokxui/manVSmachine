{
 "cells": [
  {
   "cell_type": "code",
   "execution_count": 367,
   "metadata": {},
   "outputs": [],
   "source": [
    "import math"
   ]
  },
  {
   "cell_type": "code",
   "execution_count": 368,
   "metadata": {},
   "outputs": [],
   "source": [
    "def deleteSpaces(string):\n",
    "    return \"\".join([ x for x in string if not (x == \" \")])"
   ]
  },
  {
   "cell_type": "code",
   "execution_count": 369,
   "metadata": {},
   "outputs": [],
   "source": [
    "def floor(number):\n",
    "    return (int(number))\n",
    "\n",
    "def ceil(number):\n",
    "    return number if (type(number) == int) else int(number) + 1"
   ]
  },
  {
   "cell_type": "code",
   "execution_count": 370,
   "metadata": {},
   "outputs": [],
   "source": [
    "def dimensions(length):\n",
    "    sqrOfLength = math.sqrt(length)\n",
    "    piso = line = floor(sqrOfLength)\n",
    "    teto = col = ceil(sqrOfLength)\n",
    "     \n",
    "    if (line * col < length): line = col\n",
    "    return line,col\n",
    "        "
   ]
  },
  {
   "cell_type": "code",
   "execution_count": 371,
   "metadata": {},
   "outputs": [],
   "source": [
    "def wrapText(string, numLinhas, numColunas):\n",
    "    length = len(string)\n",
    "    wrap = []   \n",
    "    for line in range(numLinhas):\n",
    "        if (line != numLinhas - 1) :\n",
    "            wrap.append(string[line*numColunas : line*numColunas + numColunas])\n",
    "        else :\n",
    "            wrap.append(string[line*numColunas: ])\n",
    "    return wrap\n",
    "        "
   ]
  },
  {
   "cell_type": "code",
   "execution_count": 372,
   "metadata": {},
   "outputs": [],
   "source": [
    "def encrypt(text):\n",
    "    msg = \"\"\n",
    "    for i in range(len(text[0])):\n",
    "        word = \"\".join([x[i] for x in text[0:-1]])\n",
    "        if (i < len(text[-1])): word = word + text[-1][i]\n",
    "        msg = msg + word + \" \"\n",
    "    # Retorna a mensagem sem o espaço final\n",
    "    return msg[0:-1]"
   ]
  },
  {
   "cell_type": "code",
   "execution_count": 373,
   "metadata": {},
   "outputs": [],
   "source": [
    "#Verifica se a função teto aplicada a um número real não inteiro\n",
    "#retorna o menor inteiro maior ou igual que esse número real\n",
    "#(Esperado)\n",
    "def testaCeil1():\n",
    "    if(ceil(12.78) == 13): return True\n",
    "    return False\n",
    "#Verifica se a função teto aplicada a um inteiro\n",
    "#retorna o próprio inteiro (Esperado)\n",
    "def testaCeil2():\n",
    "    if(ceil(11500) == 11500): return True\n",
    "    return False"
   ]
  },
  {
   "cell_type": "code",
   "execution_count": 374,
   "metadata": {},
   "outputs": [],
   "source": [
    "#Verifica se a função piso aplicada a um número real não inteiro\n",
    "#retorna o maior inteiro menor ou igual a esse número real\n",
    "#(Esperado)\n",
    "def testaFloor1():\n",
    "    if(floor(12.78) == 12): return True\n",
    "    return False\n",
    "\n",
    "#Verifica se a função piso aplicada a um inteiro\n",
    "#retorna o próprio inteiro (Esperado)\n",
    "def testaCeil2():\n",
    "    if(floor(11500) == 11500): return True\n",
    "    return False"
   ]
  },
  {
   "cell_type": "code",
   "execution_count": 375,
   "metadata": {},
   "outputs": [],
   "source": [
    "#Testa se o número de linhas é menor do que o de colunas (Esperado)\n",
    "def testaDimensions1():\n",
    "    for x in range (9, 26):\n",
    "        a, b = dimensions(x)\n",
    "        if ( a > b): return False\n",
    "    return True\n",
    "\n",
    "#Testa se o número de colunas é menor do que a função teto aplicada\n",
    "#à raiz quadrada da quantidade de linhas da str (Esperado)\n",
    "def testaDimensions2():\n",
    "    for x in range (49, 82):\n",
    "        teto = x if (type(x) == int) else int(x) + 1\n",
    "        a, b = dimensions(x)\n",
    "        if ( b > teto): return False\n",
    "    return True\n",
    "\n",
    "#Testa se o número de linhas é maior do que a função piso aplicada\n",
    "#à raiz quadrada da quantidade de linhas da str (Esperado)\n",
    "def testaDimensions3():\n",
    "    for x in range (25, 37):\n",
    "        a, b = dimensions(x)\n",
    "        if ( a < int(math.sqrt(x))): return False\n",
    "    return True\n",
    "#Testa se a área linhasXcolunas é maior ou igual que o número de linhas\n",
    "#(Esperado)\n",
    "def testaDimensions4():\n",
    "    for x in range (4, 50):\n",
    "        a, b = dimensions(x)\n",
    "        if ( a * b < x ): return False\n",
    "    return True\n",
    "\n",
    "#Testa se a área linhasXcolunas é a menor possível (Esperado)\n",
    "def testaDimensions5():\n",
    "    casos = [5, 6, 8, 16, 19, 51]\n",
    "    solucoes = [6, 6, 9, 16, 20, 56]\n",
    "    for cs, slc in zip(casos, solucoes):\n",
    "        a, b = dimensions(cs)\n",
    "        if( a * b > slc): return False\n",
    "    return True"
   ]
  },
  {
   "cell_type": "code",
   "execution_count": 376,
   "metadata": {},
   "outputs": [],
   "source": [
    "#Testa se há espaços no output da função deleteSpaces()\n",
    "def testaDeleteSpaces():\n",
    "    txt = \"aa  a a a    a a a aaaaa aa a a a \"\n",
    "    txt = deleteSpaces(txt)\n",
    "    if (\" \" in txt): return False\n",
    "    return True"
   ]
  },
  {
   "cell_type": "code",
   "execution_count": 377,
   "metadata": {},
   "outputs": [],
   "source": [
    "#Testa se o output do wrap possui o número certo de linhas\n",
    "def testaWrapText1():\n",
    "    string = \"haveaniceday\"\n",
    "    wrp = wrapText(string, 3, 4)\n",
    "    if (len(wrp) != 3): return False\n",
    "    return True\n",
    "\n",
    "#Testa se o output do wrap possui o número certo de chars por linha\n",
    "#i.e., se as colunas estão do tamanho certo \n",
    "def testaWrapText2():\n",
    "    string = \"feedthedog\"\n",
    "    wrp = wrapText(string, 3, 4)\n",
    "    solucoes = [4,4,2]\n",
    "    resultados = []\n",
    "    for x, slc in zip(wrp, solucoes):\n",
    "        if (len(x) != slc): return False\n",
    "    return True\n",
    "\n",
    "#Testa se o output da função bate com o esperado\n",
    "def testaWrapText4():\n",
    "    string = \"mistymountains\"\n",
    "    wrp = wrapText(string, 4, 4)\n",
    "    solution = ['mist', 'ymou', 'ntai', 'ns']\n",
    "    if (wrp != solution): return False\n",
    "    return True"
   ]
  },
  {
   "cell_type": "code",
   "execution_count": 378,
   "metadata": {},
   "outputs": [],
   "source": [
    "#Testa se a mensagem foi encriptada com espaços (Esperado)\n",
    "def testaEncrypt1():\n",
    "    enc = encrypt(['mist', 'ymou', 'ntai', 'ns'])\n",
    "    if (\" \" not in enc) : return False\n",
    "    return True\n",
    "#Testa se o output bate com o resultado esperado\n",
    "def testaEncrypt2():\n",
    "    enc = encrypt(['ifmanwas', 'meanttos', 'tayonthe', 'groundgo', 'dwouldha', 'vegivenu', 'sroots'])\n",
    "    solucao = 'imtgdvs fearwer mayoogo anouuio ntnnlvt wttddes aohghn sseoau'\n",
    "    if (solucao != enc): return False\n",
    "    return True"
   ]
  },
  {
   "cell_type": "code",
   "execution_count": null,
   "metadata": {},
   "outputs": [],
   "source": [
    "entra = input()\n",
    "if(len(entra) > 81 or len(entra) < 1):\n",
    "    print(\"Input invalido\")\n",
    "else: \n",
    "    l, c = dimensions(len(entra))\n",
    "    wrap = wrapText(entra, l, c)\n",
    "    enc = encrypt(wrap)\n",
    "    print(enc)"
   ]
  },
  {
   "cell_type": "code",
   "execution_count": null,
   "metadata": {},
   "outputs": [],
   "source": []
  }
 ],
 "metadata": {
  "kernelspec": {
   "display_name": "Python 3",
   "language": "python",
   "name": "python3"
  },
  "language_info": {
   "codemirror_mode": {
    "name": "ipython",
    "version": 3
   },
   "file_extension": ".py",
   "mimetype": "text/x-python",
   "name": "python",
   "nbconvert_exporter": "python",
   "pygments_lexer": "ipython3",
   "version": "3.8.2"
  }
 },
 "nbformat": 4,
 "nbformat_minor": 4
}
